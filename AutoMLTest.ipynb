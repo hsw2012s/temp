{
 "cells": [
  {
   "cell_type": "code",
   "execution_count": 1,
   "metadata": {},
   "outputs": [],
   "source": [
    "#Data Structure Lib\n",
    "import numpy as np\n",
    "from collections import OrderedDict\n",
    "#Data Parser Lib\n",
    "import os\n",
    "import glob\n",
    "#Data Zipped Lib\n",
    "import gzip\n",
    "import joblib\n",
    "import pickle\n",
    "\"\"\"Machine Learning Library\"\"\"\n",
    "#Train and Test data split\n",
    "from sklearn.model_selection import train_test_split\n",
    "from ga_selection import GASelection\n",
    "from SVMranking import SVMranking\n",
    "from SVM_classfy import SVM_classfy\n",
    "from arranged_case import arranged_case\n",
    "from feature_normalize import preprocessing_date\n",
    "#PCA\n",
    "from generic_pca import gpca\n",
    "#COPY\n",
    "import copy\n",
    "## Config File\n",
    "import config\n",
    "# Classfiication Report\n",
    "from sklearn.metrics import classification_report\n",
    "#Plot Lib\n",
    "from plot_result import plot_result\n",
    "#output json parser\n",
    "from result_json_parser import AutoML_Config as ac\n",
    "from datetime import datetime\n",
    "####################"
   ]
  },
  {
   "cell_type": "code",
   "execution_count": 2,
   "metadata": {},
   "outputs": [],
   "source": [
    "with gzip.open('pre_features_n_zip.pkl', 'rb') as f:\n",
    "    features_n =  pickle.load(f)\n",
    "with gzip.open('pre_classes_zip.pkl', 'rb') as f:\n",
    "    classes =  pickle.load(f)\n",
    "with gzip.open('feature_names_zip.pkl', 'rb') as f:\n",
    "    feature_names =  pickle.load(f)"
   ]
  },
  {
   "cell_type": "code",
   "execution_count": 3,
   "metadata": {},
   "outputs": [
    {
     "name": "stdout",
     "output_type": "stream",
     "text": [
      "['Peak value', 'RMS', 'Kurtosis', 'Crest factor', 'Clearance factor', 'Impulse factor', 'Shape factor', 'Skewness', 'SMR', '5th normalized moment', '6th nomalized moment', 'Mean', 'Shape factor2', 'Peak to peak', 'Kurtosis factor', 'Standard deviation', 'Smoothness', 'Uniformity', 'Normal negative log-likelihood', 'Entropy estimation value', 'Entropy estimation error value', 'Histogram upper bound', 'Histogram lower bound', 'Frequency center', 'Mean Square Frequency', 'Rms of frequency', 'Variance frequency', 'Root variance frequency', 'Spectrum overall', 'Spectrum rms overall']\n"
     ]
    }
   ],
   "source": [
    "print(feature_names)"
   ]
  },
  {
   "cell_type": "code",
   "execution_count": 4,
   "metadata": {},
   "outputs": [],
   "source": [
    "conf = config.loadConfig('config.json')"
   ]
  },
  {
   "cell_type": "code",
   "execution_count": 5,
   "metadata": {},
   "outputs": [],
   "source": [
    "hist, selfeat, shist = GASelection(feature_n=features_n, \n",
    "                                                            classes=classes, \n",
    "                                                            cv=conf['GA']['cv'],\n",
    "                                                            scoring=conf['GA']['scoring'],\n",
    "                                                            max_features=conf['GA']['max_features'],\n",
    "                                                            n_population=conf['GA']['n_population'],\n",
    "                                                            crossover_proba=conf['GA']['crossover_proba'],\n",
    "                                                            mutation_proba=conf['GA']['mutation_proba'],\n",
    "                                                            n_generations=conf['GA']['n_generations'],\n",
    "                                                            crossover_independent_proba=conf['GA']['crossover_independent_proba'],\n",
    "                                                            mutation_independent_proba=conf['GA']['mutation_independent_proba'],\n",
    "                                                            tournament_size=conf['GA']['tournament_size'],\n",
    "                                                            n_gen_no_change=conf['GA']['n_gen_no_change'],\n",
    "                                                            caching=conf['GA']['caching'])"
   ]
  },
  {
   "cell_type": "code",
   "execution_count": 6,
   "metadata": {},
   "outputs": [
    {
     "name": "stdout",
     "output_type": "stream",
     "text": [
      "Select Feature: ['Crest factor' 'Entropy estimation value' 'Histogram upper bound']\n"
     ]
    }
   ],
   "source": [
    "feature_names = np.array(feature_names)\n",
    "sel_feature_names = feature_names[selfeat] # 선택된 특징 이름들 array\n",
    "print(f\"Select Feature: {sel_feature_names}\")"
   ]
  },
  {
   "cell_type": "code",
   "execution_count": 7,
   "metadata": {},
   "outputs": [
    {
     "data": {
      "text/plain": [
       "array([False, False, False,  True, False, False, False, False, False,\n",
       "       False, False, False, False, False, False, False, False, False,\n",
       "       False,  True, False,  True, False, False, False, False, False,\n",
       "       False, False, False])"
      ]
     },
     "execution_count": 7,
     "metadata": {},
     "output_type": "execute_result"
    }
   ],
   "source": [
    "selfeat = selfeat.flatten()\n",
    "selfeat"
   ]
  },
  {
   "cell_type": "code",
   "execution_count": 62,
   "metadata": {},
   "outputs": [
    {
     "name": "stdout",
     "output_type": "stream",
     "text": [
      "\n",
      "Support Vector Machine Hyperparametor as followed\n",
      "C: [0.1, 0.1]\n",
      "gamma: [0.1, 0.1]\n",
      "n_splits: 1\n",
      "n_iter: 100\n",
      "test_size: 0.33\n",
      "search: random\n",
      "(14784, 3)\n"
     ]
    }
   ],
   "source": [
    "print(\"\\nSupport Vector Machine Hyperparametor as followed\")\n",
    "for k, v in conf['SVM'].items():\n",
    "    print(f\"{k}: {v}\")\n",
    "selfeature = features_n[:, selfeat]\n",
    "print(selfeature.shape)"
   ]
  },
  {
   "cell_type": "code",
   "execution_count": null,
   "metadata": {},
   "outputs": [],
   "source": [
    "\n",
    "best_accuracy, predict_result, confmat, estimator = SVM_classfy(\n",
    "                                                                                features=selfeature, \n",
    "                                                                                classes=classes.ravel(), \n",
    "                                                                                **conf['SVM']\n",
    "                                                                                )\n",
    "svm_classfy= {}\n",
    "svm_classfy['best_accuracy'] = best_accuracy\n",
    "svm_classfy['predict_result'] = predict_result\n",
    "svm_classfy['confmat'] = confmat\n",
    "svm_classfy['estimator'] = estimator\n",
    "with gzip.open('svm_classfy_zip.pkl', 'wb') as f:\n",
    "    pickle.dump(svm_classfy, f)"
   ]
  },
  {
   "cell_type": "code",
   "execution_count": 13,
   "metadata": {},
   "outputs": [],
   "source": [
    "with gzip.open('svm_classfy_zip.pkl', 'rb') as f:\n",
    "    svm_classfy =  pickle.load(f)\n",
    "best_accuracy = svm_classfy['best_accuracy']\n",
    "predict_result = svm_classfy['predict_result']\n",
    "confmat = svm_classfy['confmat']\n",
    "estimator = svm_classfy['estimator']"
   ]
  },
  {
   "cell_type": "code",
   "execution_count": 19,
   "metadata": {},
   "outputs": [
    {
     "data": {
      "text/plain": [
       "array([ 950, 3254, 2163, 3143])"
      ]
     },
     "execution_count": 19,
     "metadata": {},
     "output_type": "execute_result"
    }
   ],
   "source": [
    "estimator.best_estimator_.n_support_"
   ]
  },
  {
   "cell_type": "code",
   "execution_count": 20,
   "metadata": {},
   "outputs": [
    {
     "name": "stderr",
     "output_type": "stream",
     "text": [
      "c:\\miniconda3\\envs\\py37mattopy\\lib\\site-packages\\sklearn\\metrics\\_classification.py:1268: UndefinedMetricWarning: Recall and F-score are ill-defined and being set to 0.0 in labels with no true samples. Use `zero_division` parameter to control this behavior.\n",
      "  _warn_prf(average, modifier, msg_start, len(result))\n"
     ]
    },
    {
     "name": "stdout",
     "output_type": "stream",
     "text": [
      "              precision    recall  f1-score   support\n",
      "\n",
      "      Normal       1.00      0.26      0.41     14784\n",
      "     Rubbing       0.00      0.00      0.00         0\n",
      "   Unbalance       0.00      0.00      0.00         0\n",
      "Misalignment       0.00      0.00      0.00         0\n",
      "\n",
      "    accuracy                           0.26     14784\n",
      "   macro avg       0.25      0.06      0.10     14784\n",
      "weighted avg       1.00      0.26      0.41     14784\n",
      "\n"
     ]
    },
    {
     "name": "stderr",
     "output_type": "stream",
     "text": [
      "c:\\miniconda3\\envs\\py37mattopy\\lib\\site-packages\\sklearn\\metrics\\_classification.py:1268: UndefinedMetricWarning: Recall and F-score are ill-defined and being set to 0.0 in labels with no true samples. Use `zero_division` parameter to control this behavior.\n",
      "  _warn_prf(average, modifier, msg_start, len(result))\n"
     ]
    }
   ],
   "source": [
    "a = classification_report(\n",
    "                            estimator.best_estimator_.predict(selfeature), \n",
    "                            classes.ravel(), \n",
    "                            target_names=list(conf['input']['target_List'].keys()),\n",
    "                            output_dict=True)\n",
    "print(classification_report(\n",
    "                            estimator.best_estimator_.predict(selfeature), \n",
    "                            classes.ravel(), \n",
    "                            target_names=list(conf['input']['target_List'].keys())))"
   ]
  },
  {
   "cell_type": "code",
   "execution_count": null,
   "metadata": {},
   "outputs": [],
   "source": [
    "a"
   ]
  },
  {
   "cell_type": "code",
   "execution_count": 21,
   "metadata": {},
   "outputs": [
    {
     "name": "stdout",
     "output_type": "stream",
     "text": [
      "[[   1    3   62 1075]\n",
      " [   1    2  210 2541]\n",
      " [   1    4  466 1268]\n",
      " [   3    4  694 1825]\n",
      " [   2    3 1296 3098]\n",
      " [   2    4 1638 3291]]\n",
      "[[   2    4 1638 3291]\n",
      " [   2    3 1296 3098]\n",
      " [   3    4  694 1825]\n",
      " [   1    4  466 1268]\n",
      " [   1    2  210 2541]\n",
      " [   1    3   62 1075]]\n"
     ]
    }
   ],
   "source": [
    "Rank, combination = SVMranking(confmat)\n",
    "print(combination)\n",
    "print(Rank)\n"
   ]
  },
  {
   "cell_type": "code",
   "execution_count": 75,
   "metadata": {},
   "outputs": [
    {
     "name": "stdout",
     "output_type": "stream",
     "text": [
      "(14784, 30)\n",
      "(14784,)\n",
      "(6, 4)\n"
     ]
    },
    {
     "ename": "IndexError",
     "evalue": "too many indices for array",
     "output_type": "error",
     "traceback": [
      "\u001b[1;31m---------------------------------------------------------------------------\u001b[0m",
      "\u001b[1;31mIndexError\u001b[0m                                Traceback (most recent call last)",
      "\u001b[1;32m<ipython-input-75-7b8aae692263>\u001b[0m in \u001b[0;36m<module>\u001b[1;34m\u001b[0m\n\u001b[0;32m      2\u001b[0m \u001b[0mprint\u001b[0m\u001b[1;33m(\u001b[0m\u001b[0mclasses\u001b[0m\u001b[1;33m.\u001b[0m\u001b[0mshape\u001b[0m\u001b[1;33m)\u001b[0m\u001b[1;33m\u001b[0m\u001b[1;33m\u001b[0m\u001b[0m\n\u001b[0;32m      3\u001b[0m \u001b[0mprint\u001b[0m\u001b[1;33m(\u001b[0m\u001b[0mRank\u001b[0m\u001b[1;33m.\u001b[0m\u001b[0mshape\u001b[0m\u001b[1;33m)\u001b[0m\u001b[1;33m\u001b[0m\u001b[1;33m\u001b[0m\u001b[0m\n\u001b[1;32m----> 4\u001b[1;33m \u001b[0mfeature_re\u001b[0m\u001b[1;33m,\u001b[0m \u001b[0mclass_re\u001b[0m\u001b[1;33m,\u001b[0m \u001b[0mc\u001b[0m \u001b[1;33m=\u001b[0m \u001b[0marranged_case\u001b[0m\u001b[1;33m(\u001b[0m\u001b[0mselfeature\u001b[0m\u001b[1;33m,\u001b[0m \u001b[0mclasses\u001b[0m\u001b[1;33m,\u001b[0m \u001b[0mRank\u001b[0m\u001b[1;33m,\u001b[0m \u001b[1;36m1\u001b[0m\u001b[1;33m)\u001b[0m\u001b[1;33m\u001b[0m\u001b[1;33m\u001b[0m\u001b[0m\n\u001b[0m",
      "\u001b[1;32m~\\Desktop\\Current_Research\\Mat2Py\\Automate\\arranged_case.py\u001b[0m in \u001b[0;36marranged_case\u001b[1;34m(feature_input, class_input, rank, R)\u001b[0m\n\u001b[0;32m     10\u001b[0m \u001b[1;33m\u001b[0m\u001b[0m\n\u001b[0;32m     11\u001b[0m     \u001b[0mfeature_output\u001b[0m\u001b[1;33m=\u001b[0m\u001b[0mnp\u001b[0m\u001b[1;33m.\u001b[0m\u001b[0marray\u001b[0m\u001b[1;33m(\u001b[0m\u001b[1;33m[\u001b[0m\u001b[0mfeature_input\u001b[0m\u001b[1;33m[\u001b[0m\u001b[0marr\u001b[0m\u001b[1;33m[\u001b[0m\u001b[1;36m0\u001b[0m\u001b[1;33m]\u001b[0m\u001b[1;33m,\u001b[0m\u001b[1;33m:\u001b[0m\u001b[1;33m]\u001b[0m\u001b[1;33m]\u001b[0m\u001b[1;33m)\u001b[0m\u001b[1;33m\u001b[0m\u001b[1;33m\u001b[0m\u001b[0m\n\u001b[1;32m---> 12\u001b[1;33m     \u001b[0mclass_output\u001b[0m\u001b[1;33m=\u001b[0m\u001b[0mnp\u001b[0m\u001b[1;33m.\u001b[0m\u001b[0marray\u001b[0m\u001b[1;33m(\u001b[0m\u001b[1;33m[\u001b[0m\u001b[0mclass_input\u001b[0m\u001b[1;33m[\u001b[0m\u001b[0marr\u001b[0m\u001b[1;33m[\u001b[0m\u001b[1;36m0\u001b[0m\u001b[1;33m]\u001b[0m\u001b[1;33m,\u001b[0m\u001b[1;33m:\u001b[0m\u001b[1;33m]\u001b[0m\u001b[1;33m]\u001b[0m\u001b[1;33m)\u001b[0m\u001b[1;33m\u001b[0m\u001b[1;33m\u001b[0m\u001b[0m\n\u001b[0m\u001b[0;32m     13\u001b[0m     \u001b[0mc\u001b[0m\u001b[1;33m=\u001b[0m\u001b[0mnp\u001b[0m\u001b[1;33m.\u001b[0m\u001b[0marange\u001b[0m\u001b[1;33m(\u001b[0m\u001b[0mnp\u001b[0m\u001b[1;33m.\u001b[0m\u001b[0msize\u001b[0m\u001b[1;33m(\u001b[0m\u001b[0mc1\u001b[0m\u001b[1;33m)\u001b[0m\u001b[1;33m+\u001b[0m\u001b[0mnp\u001b[0m\u001b[1;33m.\u001b[0m\u001b[0msize\u001b[0m\u001b[1;33m(\u001b[0m\u001b[0mc2\u001b[0m\u001b[1;33m)\u001b[0m\u001b[1;33m)\u001b[0m\u001b[1;33m\u001b[0m\u001b[1;33m\u001b[0m\u001b[0m\n\u001b[0;32m     14\u001b[0m     \u001b[0mc\u001b[0m\u001b[1;33m=\u001b[0m\u001b[0mnp\u001b[0m\u001b[1;33m.\u001b[0m\u001b[0marray\u001b[0m\u001b[1;33m(\u001b[0m\u001b[1;33m[\u001b[0m\u001b[0mc\u001b[0m\u001b[1;33m]\u001b[0m\u001b[1;33m)\u001b[0m\u001b[1;33m\u001b[0m\u001b[1;33m\u001b[0m\u001b[0m\n",
      "\u001b[1;31mIndexError\u001b[0m: too many indices for array"
     ]
    }
   ],
   "source": [
    "print(features_n.shape)\n",
    "print(classes.shape)\n",
    "print(Rank.shape)\n",
    "feature_re, class_re, c = arranged_case(features_n, classes, Rank, 1)"
   ]
  },
  {
   "cell_type": "code",
   "execution_count": 76,
   "metadata": {},
   "outputs": [],
   "source": [
    "a, b = gpca(selfeature)#selfeature"
   ]
  },
  {
   "cell_type": "code",
   "execution_count": 84,
   "metadata": {},
   "outputs": [],
   "source": [
    "from sklearn.decomposition import PCA\n",
    "pca = PCA(n_components=3, svd_solver='full')\n",
    "Trainfeature = pca.fit_transform(features_n)"
   ]
  },
  {
   "cell_type": "code",
   "execution_count": 85,
   "metadata": {},
   "outputs": [
    {
     "data": {
      "text/plain": [
       "array([[-5.63230429e+12,  6.09188854e+05,  3.64247996e+02],\n",
       "       [-6.10218654e+12,  6.22031023e+05, -8.32984181e+02],\n",
       "       [-5.29090389e+12,  5.91323176e+05,  4.53259367e+03]])"
      ]
     },
     "execution_count": 85,
     "metadata": {},
     "output_type": "execute_result"
    }
   ],
   "source": [
    "Trainfeature[:3]"
   ]
  },
  {
   "cell_type": "code",
   "execution_count": 86,
   "metadata": {},
   "outputs": [
    {
     "data": {
      "text/plain": [
       "array([[ 4.39604163e+00, -5.19021676e-02,  7.34619001e-04],\n",
       "       [ 3.27193203e+00,  1.33326369e-01,  2.51928498e-03],\n",
       "       [ 4.41142625e+00, -9.88991449e-02,  1.54327381e-03]])"
      ]
     },
     "execution_count": 86,
     "metadata": {},
     "output_type": "execute_result"
    }
   ],
   "source": [
    "a[:3]"
   ]
  },
  {
   "cell_type": "code",
   "execution_count": 71,
   "metadata": {},
   "outputs": [
    {
     "data": {
      "text/plain": [
       "(14784, 3)"
      ]
     },
     "execution_count": 71,
     "metadata": {},
     "output_type": "execute_result"
    }
   ],
   "source": [
    "Trainfeature.shape"
   ]
  },
  {
   "cell_type": "code",
   "execution_count": 74,
   "metadata": {},
   "outputs": [
    {
     "data": {
      "text/plain": [
       "(14784, 6)"
      ]
     },
     "execution_count": 74,
     "metadata": {},
     "output_type": "execute_result"
    }
   ],
   "source": [
    "np.hstack((selfeature, Trainfeature)).shape\n"
   ]
  },
  {
   "cell_type": "code",
   "execution_count": 66,
   "metadata": {},
   "outputs": [
    {
     "data": {
      "text/plain": [
       "array([[-6.83922760e+12, -3.92521766e+06, -2.46579537e+05],\n",
       "       [-6.83904528e+12, -3.90545170e+06, -2.42531491e+05],\n",
       "       [-6.83899884e+12, -3.90425305e+06, -1.93021899e+05],\n",
       "       ...,\n",
       "       [ 3.21673292e+14,  7.18857008e+06,  2.19666984e+05],\n",
       "       [ 3.44697481e+14,  8.22501948e+06,  2.26786458e+05],\n",
       "       [ 3.58369750e+14,  8.62684388e+06,  2.65387413e+05]])"
      ]
     },
     "execution_count": 66,
     "metadata": {},
     "output_type": "execute_result"
    }
   ],
   "source": [
    "np.sort(Trainfeature, axis=0)"
   ]
  },
  {
   "cell_type": "code",
   "execution_count": null,
   "metadata": {},
   "outputs": [],
   "source": []
  }
 ],
 "metadata": {
  "kernelspec": {
   "display_name": "Python 3",
   "language": "python",
   "name": "python3"
  },
  "language_info": {
   "codemirror_mode": {
    "name": "ipython",
    "version": 3
   },
   "file_extension": ".py",
   "mimetype": "text/x-python",
   "name": "python",
   "nbconvert_exporter": "python",
   "pygments_lexer": "ipython3",
   "version": "3.6.7"
  }
 },
 "nbformat": 4,
 "nbformat_minor": 2
}
